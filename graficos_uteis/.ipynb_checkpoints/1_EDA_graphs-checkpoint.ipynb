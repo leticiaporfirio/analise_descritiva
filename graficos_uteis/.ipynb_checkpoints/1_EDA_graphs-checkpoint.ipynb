{
 "cells": [
  {
   "cell_type": "markdown",
   "id": "62ebe531-9df5-4095-8808-aba657df09ae",
   "metadata": {},
   "source": [
    "# Gráficos úteis para análise descritiva"
   ]
  },
  {
   "cell_type": "code",
   "execution_count": 3,
   "id": "83f2c95d-b922-46d1-af05-4e16e6e589fe",
   "metadata": {},
   "outputs": [],
   "source": [
    "import matplotlib as plt"
   ]
  },
  {
   "cell_type": "markdown",
   "id": "c69a26b4-354e-419c-b281-bd2ce20adbaa",
   "metadata": {},
   "source": [
    "# 1) Histograma"
   ]
  },
  {
   "cell_type": "code",
   "execution_count": null,
   "id": "99391bea-94ae-429b-ac9e-69bed27a556b",
   "metadata": {},
   "outputs": [],
   "source": [
    "def plot_hist():\n",
    "    fig, axes = plt.subplots(1, figsize=(18,8))\n",
    "\n",
    "    # Outliers\n",
    "\n",
    "    a = df[variables].quantile(q=quant)\n",
    "    b = df[variables].quantile(q=1-quant)\n",
    "\n",
    "    if quant_eq==1:\n",
    "        df_aux = df.loc[(df[variables] <= a) & (df[variables] >= b)]\n",
    "    else:\n",
    "        df_aux = df.loc[(df[variables] < a) & (df[variables] > b)]\n",
    "\n",
    "    a = df_aux[variables].describe(percentiles = [.05, .1, .15, .2, .25, .3, .35, .4, .45, .55, .6, .65, .7, .75, .9, .95])        "
   ]
  },
  {
   "cell_type": "code",
   "execution_count": null,
   "id": "38a339c2-cfff-46cd-8e16-08f2f27246a2",
   "metadata": {},
   "outputs": [],
   "source": [
    "import seaborn as sns\n",
    "import matplotlib.pyplot as plt\n",
    "\n",
    "def plot_distributions(df, categoria_col, valor_col):\n",
    "    \"\"\"\n",
    "    Plota distribuições de uma variável numérica agrupadas por categorias.\n",
    "\n",
    "    Parâmetros:\n",
    "    - df (pd.DataFrame): DataFrame contendo os dados.\n",
    "    - categoria_col (str): Nome da coluna categórica (ex.: 'regiao').\n",
    "    - valor_col (str): Nome da coluna numérica a ser analisada (ex.: 'indice_governanca').\n",
    "    \"\"\"\n",
    "    plt.figure(figsize=(10, 6))\n",
    "    \n",
    "    for categoria in df[categoria_col].dropna().unique():\n",
    "        sns.kdeplot(df[df[categoria_col] == categoria][valor_col].dropna(), label=categoria, fill=True)\n",
    "    \n",
    "    plt.legend(title=categoria_col)\n",
    "    plt.title(f\"Distribuição de {valor_col} por {categoria_col}\")\n",
    "    plt.xlabel(valor_col)\n",
    "    plt.ylabel(\"Densidade\")\n",
    "    plt.show()\n",
    "\n",
    "# Exemplo de uso com um DataFrame genérico\n",
    "plot_distributions(igm, 'regiao', 'indice_governanca')\n"
   ]
  }
 ],
 "metadata": {
  "kernelspec": {
   "display_name": "Python 3 (ipykernel)",
   "language": "python",
   "name": "python3"
  },
  "language_info": {
   "codemirror_mode": {
    "name": "ipython",
    "version": 3
   },
   "file_extension": ".py",
   "mimetype": "text/x-python",
   "name": "python",
   "nbconvert_exporter": "python",
   "pygments_lexer": "ipython3",
   "version": "3.12.4"
  }
 },
 "nbformat": 4,
 "nbformat_minor": 5
}
